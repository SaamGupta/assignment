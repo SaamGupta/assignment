{
  "nbformat": 4,
  "nbformat_minor": 0,
  "metadata": {
    "colab": {
      "provenance": [],
      "authorship_tag": "ABX9TyPUdCJDYiUhY/dZ03zbVSH0",
      "include_colab_link": true
    },
    "kernelspec": {
      "name": "python3",
      "display_name": "Python 3"
    },
    "language_info": {
      "name": "python"
    }
  },
  "cells": [
    {
      "cell_type": "markdown",
      "metadata": {
        "id": "view-in-github",
        "colab_type": "text"
      },
      "source": [
        "<a href=\"https://colab.research.google.com/github/SaamGupta/assignment_1/blob/main/worksheet1.ipynb\" target=\"_parent\"><img src=\"https://colab.research.google.com/assets/colab-badge.svg\" alt=\"Open In Colab\"/></a>"
      ]
    },
    {
      "cell_type": "code",
      "execution_count": 1,
      "metadata": {
        "colab": {
          "base_uri": "https://localhost:8080/"
        },
        "id": "WGDm4_bfjJQT",
        "outputId": "1eba5a83-b06e-4cde-9ba7-51e09d3ab609"
      },
      "outputs": [
        {
          "output_type": "stream",
          "name": "stdout",
          "text": [
            "\"Twinkle, twinkle, little star,\n",
            "\t How I wonder what you are!\n",
            "\t\t Up above the world so high,\n",
            "\t\t\t Like a diamond in the sky.\n",
            "\t\t\t\t Twinkle, twinkle, little star,\n",
            "\t\t\t\t\t How I wonder what you are\"\n"
          ]
        }
      ],
      "source": [
        "#Q1\n",
        "print('\"Twinkle, twinkle, little star,\\n\\t How I wonder what you are!\\n\\t\\t Up above the world so high,\\n\\t\\t\\t Like a diamond in the sky.\\n\\t\\t\\t\\t Twinkle, twinkle, little star,\\n\\t\\t\\t\\t\\t How I wonder what you are\"')\n"
      ]
    },
    {
      "cell_type": "code",
      "source": [
        "#Q2\n",
        "first_name = input(\"Enter your first name: \")\n",
        "last_name = input(\"Enter your last name: \")\n",
        "print(last_name + \" \" + first_name)"
      ],
      "metadata": {
        "colab": {
          "base_uri": "https://localhost:8080/"
        },
        "id": "wtQgWyerjate",
        "outputId": "6e5d4c60-0c50-4f8e-d403-c36997a12e30"
      },
      "execution_count": 3,
      "outputs": [
        {
          "output_type": "stream",
          "name": "stdout",
          "text": [
            "Enter your first name: saam\n",
            "Enter your last name: gupta\n",
            "gupta saam\n"
          ]
        }
      ]
    },
    {
      "cell_type": "code",
      "source": [
        "#Q3\n",
        "radius=float(input(\"Enter the value of radius of circle : \"))\n",
        "area=(3.14)*(radius**2)\n",
        "print(\"Area of circle is : \",area)"
      ],
      "metadata": {
        "colab": {
          "base_uri": "https://localhost:8080/"
        },
        "id": "qaFC4Ww4kR-q",
        "outputId": "2a4c45cc-696a-4faa-acf6-6cfe034ad5eb"
      },
      "execution_count": 4,
      "outputs": [
        {
          "output_type": "stream",
          "name": "stdout",
          "text": [
            "Enter the value of radius of circle : 2\n",
            "Area of circle is :  12.56\n"
          ]
        }
      ]
    },
    {
      "cell_type": "code",
      "source": [
        "#Q4\n",
        "color_list=[\"Red\",\"Green\",\"White\" ,\"Black\"]\n",
        "first_c=color_list[0]\n",
        "last_c=color_list[3]\n",
        "print(\"First color is : \",first_c)\n",
        "print(\"Last color is : \",last_c)"
      ],
      "metadata": {
        "colab": {
          "base_uri": "https://localhost:8080/"
        },
        "id": "MUXIXt6HkoOt",
        "outputId": "38559599-717f-4ae3-f9ca-f03b771f54b4"
      },
      "execution_count": 6,
      "outputs": [
        {
          "output_type": "stream",
          "name": "stdout",
          "text": [
            "First color is :  Red\n",
            "Last color is :  Black\n"
          ]
        }
      ]
    },
    {
      "cell_type": "code",
      "source": [
        "\n",
        "#Q5\n",
        "n=int(input(\"Enter the value of n : \"))\n",
        "a=n+n*n+n*n*n\n",
        "print(\"Value of n+nn+nnn is : \",a)"
      ],
      "metadata": {
        "colab": {
          "base_uri": "https://localhost:8080/"
        },
        "id": "5dEn5WuNkrqO",
        "outputId": "c7cfcc2c-5ec0-48f2-88c9-3170e1a58442"
      },
      "execution_count": 8,
      "outputs": [
        {
          "output_type": "stream",
          "name": "stdout",
          "text": [
            "Enter the value of n : 5\n",
            "Value of n+nn+nnn is :  155\n"
          ]
        }
      ]
    },
    {
      "cell_type": "code",
      "source": [
        "#Q6\n",
        "x = str(input(\"Enter the number: \")).split(\",\")\n",
        "print(x)\n",
        "x = tuple(x)\n",
        "print(x)"
      ],
      "metadata": {
        "id": "gwGonoGllHxS"
      },
      "execution_count": null,
      "outputs": []
    },
    {
      "cell_type": "code",
      "source": [
        "#Q7\n",
        "C=float(input('Enter the temprature : '))\n",
        "F=(1.8)*C+32\n",
        "print(\"Temprature in Fahrenheit is :  \",F)"
      ],
      "metadata": {
        "colab": {
          "base_uri": "https://localhost:8080/"
        },
        "id": "BG4OhEU-lTla",
        "outputId": "af9f96c3-c734-42dc-a582-7845f20203c8"
      },
      "execution_count": 9,
      "outputs": [
        {
          "output_type": "stream",
          "name": "stdout",
          "text": [
            "Enter the temprature : 2\n",
            "Temprature in Fahrenheit is :   35.6\n"
          ]
        }
      ]
    },
    {
      "cell_type": "code",
      "source": [
        "#Q8\n",
        "a=int(input(\"Enter the value of a : \"))\n",
        "b=int(input(\"Enter the value of b : \"))\n",
        "print('Values of a and b before swapping is : ',a,b)\n",
        "k=a\n",
        "a=b\n",
        "b=k\n",
        "print('Value of a and b after swapping is : ',a,b)\n",
        "a+=1\n",
        "print('Value of a after increment is : ',a)"
      ],
      "metadata": {
        "colab": {
          "base_uri": "https://localhost:8080/"
        },
        "id": "vyrx-t2OlkcQ",
        "outputId": "444e82a7-f702-4e70-caae-13857a5868cc"
      },
      "execution_count": 10,
      "outputs": [
        {
          "output_type": "stream",
          "name": "stdout",
          "text": [
            "Enter the value of a : 2\n",
            "Enter the value of b : 3\n",
            "Values of a and b before swapping is :  2 3\n",
            "Value of a and b after swapping is :  3 2\n",
            "Value of a after increment is :  4\n"
          ]
        }
      ]
    },
    {
      "cell_type": "code",
      "source": [
        "#Q9\n",
        "a=int(input(\"Enter the value of a : \"))\n",
        "if (a%2==0):\n",
        "    print(\"number is even\")\n",
        "else:\n",
        "    print(\"number is odd\")"
      ],
      "metadata": {
        "colab": {
          "base_uri": "https://localhost:8080/"
        },
        "id": "YdWTBzOBmCHC",
        "outputId": "9189148e-e9d3-42e6-9f95-0915038e0b0d"
      },
      "execution_count": 11,
      "outputs": [
        {
          "output_type": "stream",
          "name": "stdout",
          "text": [
            "Enter the value of a : 3\n",
            "number is odd\n"
          ]
        }
      ]
    },
    {
      "cell_type": "markdown",
      "source": [],
      "metadata": {
        "id": "3MABtKgmmUAZ"
      }
    },
    {
      "cell_type": "code",
      "source": [
        "year=int(input(\"Enter the year : \"))\n",
        "if (year%4==0 and year%100!=0) or (year%400==0):\n",
        "    print(\"the year is a leap year\")\n",
        "else:\n",
        "    print(\"the year is not a leap year\")"
      ],
      "metadata": {
        "colab": {
          "base_uri": "https://localhost:8080/"
        },
        "id": "XrcojwUlmRib",
        "outputId": "d4917834-e660-4fca-8bd4-fd5f810d4404"
      },
      "execution_count": 12,
      "outputs": [
        {
          "output_type": "stream",
          "name": "stdout",
          "text": [
            "Enter the year : 2024\n",
            "the year is a leap year\n"
          ]
        }
      ]
    },
    {
      "cell_type": "code",
      "source": [
        "#11\n",
        "\n",
        "x1,y1 = int(input(\"x1:\")), int(input(\"y1:\"))\n",
        "x2,y2 = int(input(\"x2:\")), int(input(\"y2:\"))\n",
        "dist = ((x2 - x1)**2 + (y2 - y1)**2)**0.5\n",
        "print(dist)\n",
        "\n"
      ],
      "metadata": {
        "colab": {
          "base_uri": "https://localhost:8080/"
        },
        "id": "my-KdL7NmyoJ",
        "outputId": "e2ab54a3-59f5-4ff5-93ce-96286d3ed5d2"
      },
      "execution_count": 13,
      "outputs": [
        {
          "output_type": "stream",
          "name": "stdout",
          "text": [
            "x1:2\n",
            "y1:3\n",
            "x2:2\n",
            "y2:3\n",
            "0.0\n"
          ]
        }
      ]
    },
    {
      "cell_type": "code",
      "source": [
        "#12\n",
        "a=float(input(\"Enter the value of fisrt angle: \"))\n",
        "b=float(input(\"Enter the value of second angle: \"))\n",
        "c=float(input(\"Enter the value of third angle: \"))\n",
        "if (a+b+c==180):\n",
        "    print(\"can make a triangle\")\n",
        "else:\n",
        "    print(\"cannot make a triangle\")\n",
        "\n",
        ""
      ],
      "metadata": {
        "colab": {
          "base_uri": "https://localhost:8080/"
        },
        "id": "H_E59Ij3m-Nj",
        "outputId": "6c758760-5839-43ef-b042-43b4f2cad5bd"
      },
      "execution_count": 14,
      "outputs": [
        {
          "output_type": "stream",
          "name": "stdout",
          "text": [
            "Enter the value of fisrt angle: 34\n",
            "Enter the value of second angle: 55\n",
            "Enter the value of third angle: 76\n",
            "cannot make a triangle\n"
          ]
        }
      ]
    },
    {
      "cell_type": "code",
      "source": [
        "#13\n",
        "principal_amount = float(input(\"Enter the principal amount: \"))\n",
        "rateof = float(input(\"Enter the annual interest rate (as a percentage): \")) / 100\n",
        "timeof = float(input(\"Enter the time (in years): \"))\n",
        "n = int(input(\"Enter the number of times interest is compounded per year: \"))\n",
        "\n",
        "amount = principal_amount * (1 + rateof / n) ** (n * timeof)\n",
        "interest = amount - principal_amount\n",
        "print(\"Compound Interest: \",interest)\n",
        "print(\"Total Amount : \",amount)\n",
        ""
      ],
      "metadata": {
        "colab": {
          "base_uri": "https://localhost:8080/"
        },
        "id": "RijJBktgnYTy",
        "outputId": "9fdfddc7-56a8-40f9-ed7a-dcb56f8234c7"
      },
      "execution_count": 15,
      "outputs": [
        {
          "output_type": "stream",
          "name": "stdout",
          "text": [
            "Enter the principal amount: 2333\n",
            "Enter the annual interest rate (as a percentage): 23\n",
            "Enter the time (in years): 23\n",
            "Enter the number of times interest is compounded per year: 2\n",
            "Compound Interest:  346452.6740179409\n",
            "Total Amount :  348785.6740179409\n"
          ]
        }
      ]
    },
    {
      "cell_type": "code",
      "source": [
        "#14\n",
        "n= int(input(\"Enter a positive integer: \"))\n",
        "if n<= 1:\n",
        "    print(f\"{n} is not a prime number.\")\n",
        "else:\n",
        "\n",
        "    prime = True\n",
        "\n",
        "\n",
        "    for i in range(2, int(n**0.5) + 1):\n",
        "        if n% i == 0:\n",
        "            prime = False\n",
        "            break\n",
        "\n",
        "    if prime:\n",
        "        print(\" the entered number is a prime number.\")\n",
        "    else:\n",
        "        print(\"the entered number is not a prime number.\")\n"
      ],
      "metadata": {
        "colab": {
          "base_uri": "https://localhost:8080/"
        },
        "id": "zs_FjvwMn7a0",
        "outputId": "ffbaec1e-33db-4e97-d9bb-9955b4447ba8"
      },
      "execution_count": 16,
      "outputs": [
        {
          "output_type": "stream",
          "name": "stdout",
          "text": [
            "Enter a positive integer: 3\n",
            " the entered number is a prime number.\n"
          ]
        }
      ]
    },
    {
      "cell_type": "code",
      "source": [
        "#15\n",
        "n=int(input(\"Enter a positive integer : \"))\n",
        "answer= n * (n + 1) * (2 * n+ 1) // 6\n",
        "print(\"The sum of squares from (1^2) to (n^2) is: \",answer)"
      ],
      "metadata": {
        "colab": {
          "base_uri": "https://localhost:8080/"
        },
        "id": "HkPi9q_boOyh",
        "outputId": "d8ec14be-4446-46af-a860-b1c1600c509f"
      },
      "execution_count": 17,
      "outputs": [
        {
          "output_type": "stream",
          "name": "stdout",
          "text": [
            "Enter a positive integer : 2\n",
            "The sum of squares from (1^2) to (n^2) is:  5\n"
          ]
        }
      ]
    },
    {
      "cell_type": "code",
      "source": [],
      "metadata": {
        "id": "iCHf2Gp1ohrJ"
      },
      "execution_count": null,
      "outputs": []
    }
  ]
}