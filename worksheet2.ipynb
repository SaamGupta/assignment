{
  "nbformat": 4,
  "nbformat_minor": 0,
  "metadata": {
    "colab": {
      "provenance": [],
      "authorship_tag": "ABX9TyNDP6Z/NnNevaDbfJE9Tw1s",
      "include_colab_link": true
    },
    "kernelspec": {
      "name": "python3",
      "display_name": "Python 3"
    },
    "language_info": {
      "name": "python"
    }
  },
  "cells": [
    {
      "cell_type": "markdown",
      "metadata": {
        "id": "view-in-github",
        "colab_type": "text"
      },
      "source": [
        "<a href=\"https://colab.research.google.com/github/SaamGupta/assignment_1/blob/main/worksheet2.ipynb\" target=\"_parent\"><img src=\"https://colab.research.google.com/assets/colab-badge.svg\" alt=\"Open In Colab\"/></a>"
      ]
    },
    {
      "cell_type": "code",
      "execution_count": 1,
      "metadata": {
        "id": "S0ZDQkBdsgbZ",
        "colab": {
          "base_uri": "https://localhost:8080/"
        },
        "outputId": "6f963736-0a4d-43b4-b603-23f9a0f001e2"
      },
      "outputs": [
        {
          "output_type": "stream",
          "name": "stdout",
          "text": [
            "Original list is as follows :[11, 12, 13, 14]\n",
            "1(i) list is as follows :[11, 12, 13, 14, 50, 60]\n",
            "\n",
            "\n",
            "Original list is as follows :[11, 12, 13, 14]\n",
            "1(ii) list is as follows :[12, 14]\n",
            "\n",
            "\n",
            "Original list is as follows :[12, 11, 14, 13]\n",
            "1(iii) list is as follows :[11, 12, 13, 14]\n",
            "\n",
            "\n",
            "Original list is as follows :[11, 12, 13, 14]\n",
            "1(iv) list is as follows :[14, 13, 12, 11]\n",
            "\n",
            "\n",
            "Original list is as follows :[11, 12, 13, 14]\n",
            "12 is present in 1(v) list\n",
            "\n",
            "\n",
            "Original list is as follows :[11, 12, 13, 14]\n",
            "length of 1(vi) list is 4\n",
            "\n",
            "\n",
            "Original list is as follows :[11, 12, 13, 14]\n",
            "The sum of numbers in L list is : 50\n",
            "\n",
            "\n",
            "Original list is as follows :[11, 12, 13, 14]\n",
            "Sum of odd number : 24\n",
            "\n",
            "\n",
            "[11, 12, 13, 14]\n",
            "Orginal sum of the list is 50\n",
            "The sum of even numbers in list in 1(ix) is 24\n",
            "\n",
            "\n",
            "Sum of prime numbers in the list: 28\n",
            "\n",
            "\n",
            "Orginal list is as follows : [11, 12, 13, 14]\n",
            "1(xi) list is as follows :[]\n",
            "\n",
            "\n",
            "Orginal list is as follows : [11, 12, 13, 14]\n",
            "No L list exists after deletion of that list\n"
          ]
        }
      ],
      "source": [
        "#Q1(i)\n",
        "L=[11,12,13,14]\n",
        "print(f\"Original list is as follows :{L}\")\n",
        "L.append(50)\n",
        "L.append(60)\n",
        "print(f\"1(i) list is as follows :{L}\")\n",
        "print(\"\\n\")\n",
        "\n",
        "#Q1(ii)\n",
        "L=[11,12,13,14]\n",
        "print(f\"Original list is as follows :{L}\")\n",
        "L.remove(11)\n",
        "L.remove(13)\n",
        "print(f\"1(ii) list is as follows :{L}\")\n",
        "print(\"\\n\")\n",
        "\n",
        "# Q1(iii)\n",
        "L=[12,11,14,13]\n",
        "print(f\"Original list is as follows :{L}\")\n",
        "L.sort()\n",
        "print(f\"1(iii) list is as follows :{L}\")\n",
        "print(\"\\n\")\n",
        "\n",
        "#Q1(iv)\n",
        "print(f\"Original list is as follows :{L}\")\n",
        "L.reverse()\n",
        "print(f\"1(iv) list is as follows :{L}\")\n",
        "print(\"\\n\")\n",
        "\n",
        "#Q1(v)\n",
        "L=[11,12,13,14]\n",
        "print(f\"Original list is as follows :{L}\")\n",
        "i=12\n",
        "if i in L:\n",
        "    print(f\"{i} is present in 1(v) list\")\n",
        "else:\n",
        "    print(f\"{i} is not present in 1(v) list\")\n",
        "print(\"\\n\")\n",
        "\n",
        "#Q1(vi)\n",
        "L=[11,12,13,14]\n",
        "print(f\"Original list is as follows :{L}\")\n",
        "print(f\"length of 1(vi) list is {len(L)}\")\n",
        "print(\"\\n\")\n",
        "\n",
        "#Q1(vii)\n",
        "L=[11,12,13,14]\n",
        "print(f\"Original list is as follows :{L}\")\n",
        "total=0\n",
        "for num in L:\n",
        "    total+=num\n",
        "print(\"The sum of numbers in L list is :\",total)\n",
        "print(\"\\n\")\n",
        "\n",
        "#Q1(viii)\n",
        "L=[11,12,13,14]\n",
        "print(f\"Original list is as follows :{L}\")\n",
        "total=0\n",
        "for num in L:\n",
        "    if num%2!=0:\n",
        "        total+=num\n",
        "print(\"Sum of odd number :\",total)\n",
        "print(\"\\n\")\n",
        "\n",
        "#Q1(ix)\n",
        "L=[11,12,13,14]\n",
        "print(L)\n",
        "print(\"Orginal sum of the list is 50\")\n",
        "total=0\n",
        "for num in L:\n",
        "    if num%2!=0:\n",
        "        total+=num\n",
        "print(f\"The sum of even numbers in list in 1(ix) is {total}\")\n",
        "print(\"\\n\")\n",
        "\n",
        "#Q1(x)\n",
        "def is_prime(num):\n",
        "    \"\"\"Check if a number is prime.\"\"\"\n",
        "    if num <= 1:\n",
        "        return False\n",
        "    if num <= 3:\n",
        "        return True\n",
        "    if num % 2 == 0 or num % 3 == 0:\n",
        "        return False\n",
        "    i = 5\n",
        "    while i * i <= num:\n",
        "        if num % i == 0 or num % (i + 2) == 0:\n",
        "            return False\n",
        "        i += 6\n",
        "    return True\n",
        "\n",
        "def sum_of_primes(lst):\n",
        "    \"\"\"Sum all prime numbers in the list.\"\"\"\n",
        "    prime_sum = 0\n",
        "    for num in lst:\n",
        "        if is_prime(num):\n",
        "            prime_sum += num\n",
        "    return prime_sum\n",
        "\n",
        "L = [1, 2, 3, 4, 5, 6, 7, 8, 9, 10, 11]\n",
        "result = sum_of_primes(L)\n",
        "print(\"Sum of prime numbers in the list:\", result)\n",
        "print('\\n')\n",
        "\n",
        "#Q1(xi)\n",
        "L=[11,12,13,14]\n",
        "print(f\"Orginal list is as follows : {L}\")\n",
        "L.clear()\n",
        "print(f\"1(xi) list is as follows :{L}\")\n",
        "print(\"\\n\")\n",
        "\n",
        "#Q1(xii)\n",
        "L=[11,12,13,14]\n",
        "print(f\"Orginal list is as follows : {L}\")\n",
        "del L\n",
        "print(\"No L list exists after deletion of that list\")"
      ]
    },
    {
      "cell_type": "code",
      "source": [
        "#Q2\n",
        "l=[11,12,13,14]\n",
        "total=0\n",
        "for num in l:\n",
        "    total+=num\n",
        "print(f\"The sum of numbers in L list is: {total}\")"
      ],
      "metadata": {
        "colab": {
          "base_uri": "https://localhost:8080/"
        },
        "id": "dr9B6EoNToMe",
        "outputId": "87804338-a14a-42c2-a1a5-37085bafb216"
      },
      "execution_count": 2,
      "outputs": [
        {
          "output_type": "stream",
          "name": "stdout",
          "text": [
            "The sum of numbers in L list is: 50\n"
          ]
        }
      ]
    },
    {
      "cell_type": "code",
      "source": [
        "#Q3\n",
        "l=[13,15,14,16]\n",
        "total=1\n",
        "for num in l:\n",
        "    total*=num\n",
        "print(f\"The multiplication of all the elements in the list is :{total}\")\n",
        ""
      ],
      "metadata": {
        "colab": {
          "base_uri": "https://localhost:8080/"
        },
        "id": "OAP_J7akT7HL",
        "outputId": "57b81652-fa12-44e6-f179-1046b075e4b3"
      },
      "execution_count": 4,
      "outputs": [
        {
          "output_type": "stream",
          "name": "stdout",
          "text": [
            "The multiplication of all the elements in the list is :43680\n"
          ]
        }
      ]
    },
    {
      "cell_type": "code",
      "source": [
        "#Q5\n",
        "D= {1:5.6, 2:7.8, 3:6.6, 4:8.7, 5:7.7}\n",
        "#Q5(i)\n",
        "D[8]=8.8\n",
        "print(f\"Updated dictionary for 5(i) is as follows :{D}\")\n",
        "print(\"\\n\")\n",
        "\n",
        "#Q5(ii)\n",
        "D= {1:5.6, 2:7.8, 3:6.6, 4:8.7, 5:7.7}\n",
        "D.pop(2)\n",
        "print(f\"Updated dictionaryv for 5(ii) is as follows :{D}\")\n",
        "print('\\n')\n",
        "\n",
        "#Q5(iii)\n",
        "print(\"Previous disctionary is : \",D)\n",
        "key=6\n",
        "if key in D:\n",
        "    print(f\"6{key} is present in the dictionary\")\n",
        "else:\n",
        "    print(\"6 key is not present in the dictionary\")\n",
        "print(\"\\n\")\n",
        "\n",
        "#Q5(iv)\n",
        "D= {1:5.6, 2:7.8, 3:6.6, 4:8.7, 5:7.7}\n",
        "len(D)\n",
        "print(\"Length of the dictionary is :\",len(D))\n",
        "print(\"\\n\")\n",
        "\n",
        "#Q5(vi)\n",
        "D= {1:5.6, 2:7.8, 3:6.6, 4:8.7, 5:7.7}\n",
        "D[3]=7.1\n",
        "print(\"Updated value of key 3 is : \",D)\n",
        "print(\"\\n\")\n",
        "\n",
        "#Q5(vii)\n",
        "D= {1:5.6, 2:7.8, 3:6.6, 4:8.7, 5:7.7}\n",
        "print(\"Original dictionary is :\",D)\n",
        "D.clear()\n",
        "print(\"After clearing the dictionary :\",D)\n",
        ""
      ],
      "metadata": {
        "colab": {
          "base_uri": "https://localhost:8080/"
        },
        "id": "66BJzVBhUJFk",
        "outputId": "0ea55363-776f-4db6-f82b-956447294de7"
      },
      "execution_count": 6,
      "outputs": [
        {
          "output_type": "stream",
          "name": "stdout",
          "text": [
            "Updated dictionary for 5(i) is as follows :{1: 5.6, 2: 7.8, 3: 6.6, 4: 8.7, 5: 7.7, 8: 8.8}\n",
            "\n",
            "\n",
            "Updated dictionaryv for 5(ii) is as follows :{1: 5.6, 3: 6.6, 4: 8.7, 5: 7.7}\n",
            "\n",
            "\n",
            "Previous disctionary is :  {1: 5.6, 3: 6.6, 4: 8.7, 5: 7.7}\n",
            "6 key is not present in the dictionary\n",
            "\n",
            "\n",
            "Length of the dictionary is : 5\n",
            "\n",
            "\n",
            "Updated value of key 3 is :  {1: 5.6, 2: 7.8, 3: 7.1, 4: 8.7, 5: 7.7}\n",
            "\n",
            "\n",
            "Original dictionary is : {1: 5.6, 2: 7.8, 3: 6.6, 4: 8.7, 5: 7.7}\n",
            "After clearing the dictionary : {}\n"
          ]
        }
      ]
    },
    {
      "cell_type": "code",
      "source": [
        "  #Q6\n",
        "S1= [10, 20, 30, 40, 50, 60]\n",
        "S2= [40, 50, 60, 70, 80,90]\n",
        "#Q6(i)\n",
        "S1.append(55)\n",
        "S1.append(66)\n",
        "print(\"(i) Updated S1 list in 6(i) is :0\",S1)\n",
        "print(\"\\n\")\n",
        "\n",
        "#Q6(ii)\n",
        "S1= [10, 20, 30, 40, 50, 60]\n",
        "S2= [40, 50, 60, 70, 80,90]\n",
        "S1.remove(10)\n",
        "S1.remove(30)\n",
        "print(\"(ii) Updated S1 list in 6(ii) is :\",S1)\n",
        "print(\"\\n\")\n",
        "\n",
        "#Q6(iii)\n",
        "S1= [10, 20, 30, 40, 50, 60]\n",
        "S2= [40, 50, 60, 70, 80,90]\n",
        "NUM=40\n",
        "if NUM in S1:\n",
        "    print(f\"(iii) {NUM} is present in List S1 of Q6(iii)\")\n",
        "else:\n",
        "    print(f\"(iii) {NUM} is not present in List S1 Of Q6(iii)\")\n",
        "print(\"\\n\")\n",
        "\n",
        "#Q6(iv)\n",
        "union_list=list(set(S1)|set(S2))\n",
        "print(\"(iv) Union of S1 and S2 :\",union_list)\n",
        "print(\"\\n\")\n",
        "\n",
        "#Q6(v)\n",
        "intersection_list=list(set(S1)&set(S2))\n",
        "print(\"(v) Intersection of S1 and S2 :\",intersection_list)\n",
        "print(\"\\n\")\n",
        "\n",
        "#Q6(vi)\n",
        "difference_list=list(set(S1)-set(S2))\n",
        "print(\"(vi) Difference of S1 and S2 :\",difference_list)\n",
        "print(\"\\n\")"
      ],
      "metadata": {
        "colab": {
          "base_uri": "https://localhost:8080/"
        },
        "id": "GynQ3g60UdJa",
        "outputId": "969265d5-8f7c-449a-ce68-509c2f3dd0b0"
      },
      "execution_count": 7,
      "outputs": [
        {
          "output_type": "stream",
          "name": "stdout",
          "text": [
            "(i) Updated S1 list in 6(i) is :0 [10, 20, 30, 40, 50, 60, 55, 66]\n",
            "\n",
            "\n",
            "(ii) Updated S1 list in 6(ii) is : [20, 40, 50, 60]\n",
            "\n",
            "\n",
            "(iii) 40 is present in List S1 of Q6(iii)\n",
            "\n",
            "\n",
            "(iv) Union of S1 and S2 : [70, 40, 10, 80, 50, 20, 90, 60, 30]\n",
            "\n",
            "\n",
            "(v) Intersection of S1 and S2 : [40, 50, 60]\n",
            "\n",
            "\n",
            "(vi) Difference of S1 and S2 : [10, 20, 30]\n",
            "\n",
            "\n"
          ]
        }
      ]
    },
    {
      "cell_type": "code",
      "source": [
        "\n",
        "#Q7(i)\n",
        "print(\"\\n\")\n",
        "\n",
        "#Q7(ii)\n",
        "for num in range(600,801):\n",
        "    if num>1:\n",
        "        for i in range(2,int(num**0.5)+1):\n",
        "          if num%i==0:\n",
        "              break\n",
        "        else:\n",
        "            print(num,end=\",\")\n",
        "print(\"\\n\")\n",
        "\n",
        "#Q7(iii)\n",
        "for num in range(100,1001):\n",
        "    if num%7==0 and num%9==0:\n",
        "\n",
        "        print(num,end=\" \")\n"
      ],
      "metadata": {
        "colab": {
          "base_uri": "https://localhost:8080/"
        },
        "id": "bPtQMfp2Uo3q",
        "outputId": "057d4eea-0e10-4048-bc80-6bdcefe5592d"
      },
      "execution_count": 8,
      "outputs": [
        {
          "output_type": "stream",
          "name": "stdout",
          "text": [
            "\n",
            "\n",
            "601,607,613,617,619,631,641,643,647,653,659,661,673,677,683,691,701,709,719,727,733,739,743,751,757,761,769,773,787,797,\n",
            "\n",
            "126 189 252 315 378 441 504 567 630 693 756 819 882 945 "
          ]
        }
      ]
    },
    {
      "cell_type": "code",
      "source": [
        "#Q8\n",
        "exam_date = (23, 9, 2024)\n",
        "\n",
        "print(f\"The examination will start from: {exam_date[0]}/{exam_date[1]}/{exam_date[2]}\")\n",
        ""
      ],
      "metadata": {
        "colab": {
          "base_uri": "https://localhost:8080/"
        },
        "id": "v1Xt3k9xU0BZ",
        "outputId": "5e4c2a57-f656-405f-af64-47bdcf59ca72"
      },
      "execution_count": 10,
      "outputs": [
        {
          "output_type": "stream",
          "name": "stdout",
          "text": [
            "The examination will start from: 23/9/2024\n"
          ]
        }
      ]
    },
    {
      "cell_type": "code",
      "source": [
        "#Q9\n",
        "numbers = [6, 10, 45, 60, 75, 3, 55, 715, 10090]\n",
        "for number in numbers:\n",
        "    if number % 5 == 0:\n",
        "        print(number,end=\" \")"
      ],
      "metadata": {
        "colab": {
          "base_uri": "https://localhost:8080/"
        },
        "id": "Q1RijFJEVDns",
        "outputId": "3aaf7402-2b6a-433e-85a6-7dd488ceec7c"
      },
      "execution_count": 12,
      "outputs": [
        {
          "output_type": "stream",
          "name": "stdout",
          "text": [
            "10 45 60 75 55 715 10090 "
          ]
        }
      ]
    },
    {
      "cell_type": "code",
      "source": [
        "#Q10\n",
        "a=int(input(\"Enter a number : \"))\n",
        "even=a%2==0\n",
        "if (even==True):\n",
        "    print(f\"{a} is even\")\n",
        "else:\n",
        "    print(f\"{a} is odd\")"
      ],
      "metadata": {
        "colab": {
          "base_uri": "https://localhost:8080/"
        },
        "id": "DMi-Q2HGVV92",
        "outputId": "992842b5-ee61-4ea5-e02f-5c394739f673"
      },
      "execution_count": 13,
      "outputs": [
        {
          "output_type": "stream",
          "name": "stdout",
          "text": [
            "Enter a number : 3\n",
            "3 is odd\n"
          ]
        }
      ]
    },
    {
      "cell_type": "code",
      "source": [
        "#Q11\n",
        "string = \"Thapar is one of the best university.Thapar has a good infrastructure\"\n",
        "count = string.count(\"Thapar\")\n",
        "\n",
        "print(f\"The substring 'Thapar' appears {count} times in the given string.\")"
      ],
      "metadata": {
        "colab": {
          "base_uri": "https://localhost:8080/"
        },
        "id": "qv5gyddCVc2Y",
        "outputId": "c5d83e3f-bff2-4484-d13e-bc26b616afd3"
      },
      "execution_count": 18,
      "outputs": [
        {
          "output_type": "stream",
          "name": "stdout",
          "text": [
            "The substring 'Thapar' appears 2 times in the given string.\n"
          ]
        }
      ]
    }
  ]
}