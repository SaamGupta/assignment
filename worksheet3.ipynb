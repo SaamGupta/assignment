{
  "nbformat": 4,
  "nbformat_minor": 0,
  "metadata": {
    "colab": {
      "provenance": [],
      "authorship_tag": "ABX9TyNTJc9T6J9QQAMeAwO0FFd6",
      "include_colab_link": true
    },
    "kernelspec": {
      "name": "python3",
      "display_name": "Python 3"
    },
    "language_info": {
      "name": "python"
    }
  },
  "cells": [
    {
      "cell_type": "markdown",
      "metadata": {
        "id": "view-in-github",
        "colab_type": "text"
      },
      "source": [
        "<a href=\"https://colab.research.google.com/github/SaamGupta/assignment/blob/main/worksheet3.ipynb\" target=\"_parent\"><img src=\"https://colab.research.google.com/assets/colab-badge.svg\" alt=\"Open In Colab\"/></a>"
      ]
    },
    {
      "cell_type": "code",
      "execution_count": 1,
      "metadata": {
        "colab": {
          "base_uri": "https://localhost:8080/"
        },
        "id": "55YfV2dpsOtc",
        "outputId": "17635849-0a6b-4274-977b-9d9b0635d71b"
      },
      "outputs": [
        {
          "output_type": "stream",
          "name": "stdout",
          "text": [
            "Enter a number: 5\n",
            "The result is: 12\n"
          ]
        }
      ],
      "source": [
        "#Q1\n",
        "def diff(num):\n",
        "    if num > 17:\n",
        "        return 2 * abs(num - 17)\n",
        "    else:\n",
        "        return 17 - num\n",
        "\n",
        "num = int(input(\"Enter a number: \"))\n",
        "result = diff(num)\n",
        "print(f\"The result is: {result}\")\n"
      ]
    },
    {
      "cell_type": "code",
      "source": [
        "#Q2\n",
        "def check(num):\n",
        "  if num>=100 and num<=1000 or num==2000:\n",
        "    return 1\n",
        "  else:\n",
        "    return 0\n",
        "\n",
        "num=int(input(\"Enter a number : \"))\n",
        "result=check(num)\n",
        "if result:\n",
        "    print(f\"{num} is within the range 100 to 1000 or it is 2000.\")\n",
        "else:\n",
        "    print(f\"{num} is not within the range 100 to 1000 or 2000.\")"
      ],
      "metadata": {
        "colab": {
          "base_uri": "https://localhost:8080/"
        },
        "id": "7fcpi-8MsPPZ",
        "outputId": "b74070d6-4d10-4e87-a7a8-fcbe19cd31ea"
      },
      "execution_count": 3,
      "outputs": [
        {
          "output_type": "stream",
          "name": "stdout",
          "text": [
            "Enter a number : 2000\n",
            "2000 is within the range 100 to 1000 or it is 2000.\n"
          ]
        }
      ]
    },
    {
      "cell_type": "code",
      "source": [
        "#Q3\n",
        "def rev_string(s):\n",
        "    return s[::-1]\n",
        "\n",
        "string = input(\"Enter a string: \")\n",
        "rev_string = rev_string(string)\n",
        "print(f\"The reversed string is: {rev_string}\")"
      ],
      "metadata": {
        "colab": {
          "base_uri": "https://localhost:8080/"
        },
        "id": "J4H7xwxps4hP",
        "outputId": "ba89dfd8-d4d0-4bd3-a263-53238b34d3ee"
      },
      "execution_count": 4,
      "outputs": [
        {
          "output_type": "stream",
          "name": "stdout",
          "text": [
            "Enter a string: hello\n",
            "The reversed string is: olleh\n"
          ]
        }
      ]
    },
    {
      "cell_type": "code",
      "source": [
        "#Q4\n",
        "def count(string):\n",
        "    upper = 0\n",
        "    lower = 0\n",
        "\n",
        "    for letter in string:\n",
        "        if letter.isupper():\n",
        "            upper += 1\n",
        "        elif letter.islower():\n",
        "            lower += 1\n",
        "\n",
        "    return upper, lower\n",
        "\n",
        "string = input(\"Enter a string: \")\n",
        "upper, lower = count(string)\n",
        "\n",
        "print(f\"Uppercase letters: {upper}\")\n",
        "print(f\"Lowercase letters: {lower}\")"
      ],
      "metadata": {
        "colab": {
          "base_uri": "https://localhost:8080/"
        },
        "id": "f2PFQ944tClh",
        "outputId": "65626234-429f-47ba-f542-c85488777ceb"
      },
      "execution_count": 5,
      "outputs": [
        {
          "output_type": "stream",
          "name": "stdout",
          "text": [
            "Enter a string: Hello World\n",
            "Uppercase letters: 2\n",
            "Lowercase letters: 8\n"
          ]
        }
      ]
    },
    {
      "cell_type": "code",
      "source": [
        "#Q5\n",
        "def NewList(num):\n",
        "    return list(set(num))\n",
        "\n",
        "List = [2,4,6,8,10,100,63,34]\n",
        "distinctlist = NewList(List)\n",
        "\n",
        "print(\"Original list:\", List)\n",
        "print(\"List with distinct elements:\", distinctlist)\n",
        ""
      ],
      "metadata": {
        "colab": {
          "base_uri": "https://localhost:8080/"
        },
        "id": "dOnsrSvBtOc-",
        "outputId": "83997319-400a-4936-f96e-32406f448422"
      },
      "execution_count": 6,
      "outputs": [
        {
          "output_type": "stream",
          "name": "stdout",
          "text": [
            "Original list: [2, 4, 6, 8, 10, 100, 63, 34]\n",
            "List with distinct elements: [2, 34, 4, 100, 6, 8, 10, 63]\n"
          ]
        }
      ]
    },
    {
      "cell_type": "code",
      "source": [
        "#Q6\n",
        "def even(List):\n",
        "    even = [num for num in List if num % 2 == 0]\n",
        "    return even\n",
        "List = [10,9,8,7,6,5,4,3,2,1]\n",
        "result = even(List)\n",
        "\n",
        "print(f\"Even numbers: {result}\")\n"
      ],
      "metadata": {
        "colab": {
          "base_uri": "https://localhost:8080/"
        },
        "id": "QOl1L_f2tgEa",
        "outputId": "f9c14b30-9cec-4c77-c2e9-5bede7c41f36"
      },
      "execution_count": 8,
      "outputs": [
        {
          "output_type": "stream",
          "name": "stdout",
          "text": [
            "Even numbers: [10, 8, 6, 4, 2]\n"
          ]
        }
      ]
    },
    {
      "cell_type": "code",
      "source": [
        "#Q7\n",
        "def outer(text):\n",
        "    def inner():\n",
        "        print(f\"Hello {text}\")\n",
        "\n",
        "    inner()\n",
        "\n",
        "outer(\"World\")"
      ],
      "metadata": {
        "colab": {
          "base_uri": "https://localhost:8080/"
        },
        "id": "H_jUk95ZtrDT",
        "outputId": "999326cc-3466-415e-fd26-c03121b47128"
      },
      "execution_count": 9,
      "outputs": [
        {
          "output_type": "stream",
          "name": "stdout",
          "text": [
            "Hello World\n"
          ]
        }
      ]
    },
    {
      "cell_type": "code",
      "source": [
        "#Q8\n",
        "def student(Name, Age, Grade):\n",
        "    student.Name = Name\n",
        "    student.Age = Age\n",
        "    student.Grade = Grade\n",
        "\n",
        "    for attribute in student.__dict__:\n",
        "        print(f\"{attribute} : {getattr(student, attribute)}\")\n",
        "\n",
        "student(\"Saam Gupta\",20,\"2nd year\")"
      ],
      "metadata": {
        "colab": {
          "base_uri": "https://localhost:8080/"
        },
        "id": "lrbBi5QDtzqs",
        "outputId": "e2d93856-ec62-4d2c-a32f-909a3081b81b"
      },
      "execution_count": 13,
      "outputs": [
        {
          "output_type": "stream",
          "name": "stdout",
          "text": [
            "Name : Saam Gupta\n",
            "Age : 20\n",
            "Grade : 2nd year\n"
          ]
        }
      ]
    },
    {
      "cell_type": "code",
      "source": [
        "#Q9\n",
        "class Student:\n",
        "    def __init__(self, student_id, student_name):\n",
        "        self.student_id = student_id\n",
        "        self.student_name = student_name\n",
        "        self.student_class = None\n",
        "\n",
        "    def set_student_class(self, student_class):\n",
        "        self.student_class = student_class\n",
        "\n",
        "    def display_attributes(self):\n",
        "\n",
        "        print(f\"Student ID: {self.student_id}\")\n",
        "        print(f\"Student Name: {self.student_name}\")\n",
        "        print(f\"Student Class: {self.student_class}\")\n",
        "\n",
        "\n",
        "student1 = Student(3056, \"Saam Gupta\")\n",
        "student1.set_student_class(\" 2nd Year\")\n",
        "student1.display_attributes()\n",
        "\n",
        ""
      ],
      "metadata": {
        "colab": {
          "base_uri": "https://localhost:8080/"
        },
        "id": "e8Y5R4ceuIJV",
        "outputId": "de46c591-80e2-4326-9bb5-7b80908eab65"
      },
      "execution_count": 14,
      "outputs": [
        {
          "output_type": "stream",
          "name": "stdout",
          "text": [
            "Student ID: 3056\n",
            "Student Name: Saam Gupta\n",
            "Student Class:  2nd Year\n"
          ]
        }
      ]
    },
    {
      "cell_type": "code",
      "source": [
        "\n",
        "#Q10\n",
        "class Student:\n",
        "    def __init__(self, student_id, student_name, student_class):\n",
        "        self.student_id = student_id\n",
        "        self.student_name = student_name\n",
        "        self.student_class = student_class\n",
        "\n",
        "    def display_attributes(self):\n",
        "        print(f\"Student ID: {self.student_id}\")\n",
        "        print(f\"Student Name: {self.student_name}\")\n",
        "        print(f\"Student Class: {self.student_class}\")\n",
        "\n",
        "student1 = Student(1, \"Saam Gupta\", \"Second Year\")\n",
        "student2 = Student(2, \"Kamaldeep\", \"Fourth Year\")\n",
        "\n",
        "#student1\n",
        "print(\"Attributes of student 1:\")\n",
        "student1.display_attributes()\n",
        "print()\n",
        "\n",
        "#student2\n",
        "print(\"Attributes of student 2:\")\n",
        "student2.display_attributes()"
      ],
      "metadata": {
        "colab": {
          "base_uri": "https://localhost:8080/"
        },
        "id": "Z__8_XQiuWI7",
        "outputId": "013a8a1c-6d3d-40b8-bb6c-b84b08206586"
      },
      "execution_count": 16,
      "outputs": [
        {
          "output_type": "stream",
          "name": "stdout",
          "text": [
            "Attributes of student 1:\n",
            "Student ID: 1\n",
            "Student Name: Saam Gupta\n",
            "Student Class: Second Year\n",
            "\n",
            "Attributes of student 2:\n",
            "Student ID: 2\n",
            "Student Name: Kamaldee\n",
            "Student Class: Fourth Year\n"
          ]
        }
      ]
    },
    {
      "cell_type": "code",
      "source": [
        "#11\n",
        "import math\n",
        "\n",
        "class Circle:\n",
        "    def __init__(self, radius):\n",
        "        self.radius = radius\n",
        "\n",
        "    def area(self):\n",
        "        return math.pi * (self.radius ** 2)\n",
        "\n",
        "    def perimeter(self):\n",
        "        return 2 * math.pi * self.radius\n",
        "\n",
        "circle = Circle(3)\n",
        "\n",
        "print(f\"Area of the circle: {circle.area()}\")\n",
        "print(f\"Perimeter of the circle: {circle.perimeter()}\")\n"
      ],
      "metadata": {
        "colab": {
          "base_uri": "https://localhost:8080/"
        },
        "id": "HudxF5oNuwd2",
        "outputId": "80898c9d-5b08-45a6-8092-3505853f7878"
      },
      "execution_count": 18,
      "outputs": [
        {
          "output_type": "stream",
          "name": "stdout",
          "text": [
            "Area of the circle: 28.274333882308138\n",
            "Perimeter of the circle: 18.84955592153876\n"
          ]
        }
      ]
    },
    {
      "cell_type": "code",
      "source": [
        "#12\n",
        "class string_in_upper_case:\n",
        "    def __init__(self):\n",
        "        self.text = \"\"\n",
        "\n",
        "    def get_String(self):\n",
        "        self.text = input(\"Enter a string: \")\n",
        "\n",
        "    def print_String(self):\n",
        "        print(self.text.upper())\n",
        "\n",
        "string_in_upper_case = string_in_upper_case()\n",
        "string_in_upper_case.get_String()\n",
        "string_in_upper_case.print_String()"
      ],
      "metadata": {
        "colab": {
          "base_uri": "https://localhost:8080/"
        },
        "id": "eGF1OMUFu5P8",
        "outputId": "185f3ad6-33a5-42e6-8887-d06ea85f3d05"
      },
      "execution_count": 19,
      "outputs": [
        {
          "output_type": "stream",
          "name": "stdout",
          "text": [
            "Enter a string: HEllo \n",
            "HELLO \n"
          ]
        }
      ]
    }
  ]
}